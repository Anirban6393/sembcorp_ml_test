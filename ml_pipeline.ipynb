{
 "cells": [
  {
   "cell_type": "code",
   "execution_count": null,
   "id": "c669f3bf",
   "metadata": {},
   "outputs": [],
   "source": [
    "import pandas as pd\n",
    "import numpy as np\n",
    "from sklearn.ensemble import RandomForestRegressor\n",
    "from mp.Dataprocessor import *\n",
    "from mp.Modelevaluator import *\n",
    "from sklearn.preprocessing import Normalizer\n",
    "import os\n",
    "os.chdir(os.getcwd()+'\\\\data')\n"
   ]
  },
  {
   "cell_type": "code",
   "execution_count": 2,
   "id": "c6a72f02",
   "metadata": {},
   "outputs": [],
   "source": [
    "dl=Data_Loader()\n",
    "data=dl.upload()\n",
    "\n",
    "dp=Data_Processor\n",
    "d_train, d_test = dp.test_train_split(data)\n",
    "x_train,y_train,x_test,y_test = dp.normaliser(d_train,d_test)"
   ]
  },
  {
   "cell_type": "code",
   "execution_count": 3,
   "id": "950dfa4c",
   "metadata": {},
   "outputs": [
    {
     "name": "stdout",
     "output_type": "stream",
     "text": [
      "Overfitting , mean_train_score: 0.986 , mean_test_score: -4.973\n",
      "None\n",
      "0.9854502529166244\n"
     ]
    }
   ],
   "source": [
    "#Cross Validate Logistic Regression Classifier\n",
    "rf = RandomForestRegressor(n_estimators=10, n_jobs=-1, random_state=5, max_depth=5)\n",
    "mod = Modelevaluator(rf,x_train, x_test, y_train, y_test)\n",
    "\n",
    "print(mod.cross_evaluation(cv_int=5))\n",
    "print(mod.r2score())"
   ]
  },
  {
   "cell_type": "code",
   "execution_count": 4,
   "id": "b57b9afb",
   "metadata": {},
   "outputs": [
    {
     "name": "stdout",
     "output_type": "stream",
     "text": [
      "C:\\Users\\anirban\\Desktop\\test_ml\n"
     ]
    }
   ],
   "source": [
    "path_parent = os.path.dirname(os.getcwd())\n",
    "os.chdir(path_parent)\n",
    "print(os.getcwd())"
   ]
  },
  {
   "cell_type": "code",
   "execution_count": 5,
   "id": "90395201",
   "metadata": {},
   "outputs": [],
   "source": [
    "mod.save_model('xgbregressor.pkl')"
   ]
  },
  {
   "cell_type": "code",
   "execution_count": 6,
   "id": "ea02081d",
   "metadata": {},
   "outputs": [],
   "source": [
    "d_test_norm=pd.DataFrame(Normalizer().fit_transform(d_test.loc[:,'sens_1':'sens_5']))\n",
    "cols=list(d_test.columns)\n",
    "d_test_norm.columns=cols\n",
    "d_test_norm['sens_1_pred']=mod.generate_predictions()\n",
    "d_test_norm=d_test_norm.set_index(d_test.index)"
   ]
  },
  {
   "cell_type": "code",
   "execution_count": 7,
   "id": "de008d99",
   "metadata": {},
   "outputs": [],
   "source": [
    "d_test_norm.to_csv('test_data.csv',index=True)"
   ]
  },
  {
   "cell_type": "code",
   "execution_count": 13,
   "id": "330211f8",
   "metadata": {},
   "outputs": [
    {
     "data": {
      "text/html": [
       "<div>\n",
       "<style scoped>\n",
       "    .dataframe tbody tr th:only-of-type {\n",
       "        vertical-align: middle;\n",
       "    }\n",
       "\n",
       "    .dataframe tbody tr th {\n",
       "        vertical-align: top;\n",
       "    }\n",
       "\n",
       "    .dataframe thead th {\n",
       "        text-align: right;\n",
       "    }\n",
       "</style>\n",
       "<table border=\"1\" class=\"dataframe\">\n",
       "  <thead>\n",
       "    <tr style=\"text-align: right;\">\n",
       "      <th></th>\n",
       "      <th>index</th>\n",
       "      <th>created_timestamp</th>\n",
       "      <th>sens_1</th>\n",
       "      <th>sens_2</th>\n",
       "      <th>sens_4</th>\n",
       "      <th>sens_5</th>\n",
       "      <th>sens_1_pred</th>\n",
       "    </tr>\n",
       "  </thead>\n",
       "  <tbody>\n",
       "    <tr>\n",
       "      <th>0</th>\n",
       "      <td>0</td>\n",
       "      <td>2021-07-05 17:15:55.968000+00:00</td>\n",
       "      <td>0.662178</td>\n",
       "      <td>0.747470</td>\n",
       "      <td>0.018609</td>\n",
       "      <td>0.049625</td>\n",
       "      <td>0.662820</td>\n",
       "    </tr>\n",
       "    <tr>\n",
       "      <th>1</th>\n",
       "      <td>1</td>\n",
       "      <td>2021-07-05 17:15:59.079000+00:00</td>\n",
       "      <td>0.658673</td>\n",
       "      <td>0.750545</td>\n",
       "      <td>0.018686</td>\n",
       "      <td>0.049829</td>\n",
       "      <td>0.659952</td>\n",
       "    </tr>\n",
       "    <tr>\n",
       "      <th>2</th>\n",
       "      <td>2</td>\n",
       "      <td>2021-07-05 17:16:02.142000+00:00</td>\n",
       "      <td>0.661411</td>\n",
       "      <td>0.748153</td>\n",
       "      <td>0.018588</td>\n",
       "      <td>0.049567</td>\n",
       "      <td>0.659952</td>\n",
       "    </tr>\n",
       "    <tr>\n",
       "      <th>3</th>\n",
       "      <td>3</td>\n",
       "      <td>2021-07-05 17:16:06.736000+00:00</td>\n",
       "      <td>0.657904</td>\n",
       "      <td>0.751224</td>\n",
       "      <td>0.018664</td>\n",
       "      <td>0.049771</td>\n",
       "      <td>0.658106</td>\n",
       "    </tr>\n",
       "    <tr>\n",
       "      <th>4</th>\n",
       "      <td>4</td>\n",
       "      <td>2021-07-05 17:16:12.974000+00:00</td>\n",
       "      <td>0.658896</td>\n",
       "      <td>0.750366</td>\n",
       "      <td>0.018604</td>\n",
       "      <td>0.049611</td>\n",
       "      <td>0.659952</td>\n",
       "    </tr>\n",
       "    <tr>\n",
       "      <th>5</th>\n",
       "      <td>5</td>\n",
       "      <td>2021-07-05 17:16:16.144000+00:00</td>\n",
       "      <td>0.660645</td>\n",
       "      <td>0.748834</td>\n",
       "      <td>0.018566</td>\n",
       "      <td>0.049510</td>\n",
       "      <td>0.659952</td>\n",
       "    </tr>\n",
       "    <tr>\n",
       "      <th>6</th>\n",
       "      <td>6</td>\n",
       "      <td>2021-07-05 17:16:19.314000+00:00</td>\n",
       "      <td>0.659880</td>\n",
       "      <td>0.749512</td>\n",
       "      <td>0.018545</td>\n",
       "      <td>0.049452</td>\n",
       "      <td>0.659952</td>\n",
       "    </tr>\n",
       "    <tr>\n",
       "      <th>7</th>\n",
       "      <td>7</td>\n",
       "      <td>2021-07-05 17:16:20.952000+00:00</td>\n",
       "      <td>0.658130</td>\n",
       "      <td>0.751042</td>\n",
       "      <td>0.018582</td>\n",
       "      <td>0.049553</td>\n",
       "      <td>0.659952</td>\n",
       "    </tr>\n",
       "    <tr>\n",
       "      <th>8</th>\n",
       "      <td>8</td>\n",
       "      <td>2021-07-05 17:16:24.033000+00:00</td>\n",
       "      <td>0.661620</td>\n",
       "      <td>0.747985</td>\n",
       "      <td>0.018507</td>\n",
       "      <td>0.049352</td>\n",
       "      <td>0.659952</td>\n",
       "    </tr>\n",
       "    <tr>\n",
       "      <th>9</th>\n",
       "      <td>9</td>\n",
       "      <td>2021-07-05 17:16:27.207000+00:00</td>\n",
       "      <td>0.656369</td>\n",
       "      <td>0.752574</td>\n",
       "      <td>0.018620</td>\n",
       "      <td>0.049654</td>\n",
       "      <td>0.656174</td>\n",
       "    </tr>\n",
       "  </tbody>\n",
       "</table>\n",
       "</div>"
      ],
      "text/plain": [
       "   index                 created_timestamp    sens_1    sens_2    sens_4  \\\n",
       "0      0  2021-07-05 17:15:55.968000+00:00  0.662178  0.747470  0.018609   \n",
       "1      1  2021-07-05 17:15:59.079000+00:00  0.658673  0.750545  0.018686   \n",
       "2      2  2021-07-05 17:16:02.142000+00:00  0.661411  0.748153  0.018588   \n",
       "3      3  2021-07-05 17:16:06.736000+00:00  0.657904  0.751224  0.018664   \n",
       "4      4  2021-07-05 17:16:12.974000+00:00  0.658896  0.750366  0.018604   \n",
       "5      5  2021-07-05 17:16:16.144000+00:00  0.660645  0.748834  0.018566   \n",
       "6      6  2021-07-05 17:16:19.314000+00:00  0.659880  0.749512  0.018545   \n",
       "7      7  2021-07-05 17:16:20.952000+00:00  0.658130  0.751042  0.018582   \n",
       "8      8  2021-07-05 17:16:24.033000+00:00  0.661620  0.747985  0.018507   \n",
       "9      9  2021-07-05 17:16:27.207000+00:00  0.656369  0.752574  0.018620   \n",
       "\n",
       "     sens_5  sens_1_pred  \n",
       "0  0.049625     0.662820  \n",
       "1  0.049829     0.659952  \n",
       "2  0.049567     0.659952  \n",
       "3  0.049771     0.658106  \n",
       "4  0.049611     0.659952  \n",
       "5  0.049510     0.659952  \n",
       "6  0.049452     0.659952  \n",
       "7  0.049553     0.659952  \n",
       "8  0.049352     0.659952  \n",
       "9  0.049654     0.656174  "
      ]
     },
     "execution_count": 13,
     "metadata": {},
     "output_type": "execute_result"
    }
   ],
   "source": [
    "from sqlalchemy import *\n",
    "from sqlalchemy import create_engine\n",
    "from sqlalchemy import text\n",
    "\n",
    "engine = create_engine('sqlite:///pyakc.db', echo=False)\n",
    "qry_table=pd.read_sql_query(\"SELECT * FROM sensor\", con=engine)\n",
    "qry_table.head(10)"
   ]
  },
  {
   "cell_type": "code",
   "execution_count": 12,
   "id": "3c197c62",
   "metadata": {},
   "outputs": [],
   "source": [
    "#engine.execute('drop table sensor')\n"
   ]
  },
  {
   "cell_type": "code",
   "execution_count": null,
   "id": "f635526a",
   "metadata": {},
   "outputs": [],
   "source": []
  }
 ],
 "metadata": {
  "kernelspec": {
   "display_name": "Python 3 (ipykernel)",
   "language": "python",
   "name": "python3"
  },
  "language_info": {
   "codemirror_mode": {
    "name": "ipython",
    "version": 3
   },
   "file_extension": ".py",
   "mimetype": "text/x-python",
   "name": "python",
   "nbconvert_exporter": "python",
   "pygments_lexer": "ipython3",
   "version": "3.7.9"
  }
 },
 "nbformat": 4,
 "nbformat_minor": 5
}
